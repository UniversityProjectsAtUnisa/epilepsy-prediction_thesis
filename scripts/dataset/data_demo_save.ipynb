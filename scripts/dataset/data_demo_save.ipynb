{
 "cells": [
  {
   "cell_type": "code",
   "execution_count": 25,
   "metadata": {},
   "outputs": [],
   "source": [
    "from pathlib import Path\n",
    "import numpy as np\n",
    "import matplotlib.pyplot as plt\n",
    "import mne\n",
    "from data_functions.edf import EDFOperations\n",
    "import json"
   ]
  },
  {
   "cell_type": "code",
   "execution_count": 26,
   "metadata": {},
   "outputs": [],
   "source": [
    "USEFUL_CHANNELS = [\n",
    "    \"FP1-F7\",\n",
    "    \"FP2-F8\",\n",
    "    \"P7-O1\",\n",
    "    \"P8-O2\",\n",
    "    \"FZ-CZ\",\n",
    "]"
   ]
  },
  {
   "cell_type": "code",
   "execution_count": 27,
   "metadata": {},
   "outputs": [],
   "source": [
    "edf_negative_filepaths = {\n",
    "    \"normal1.json\": [Path(\"/media/marco741/Archive/Datasets/CHB MIT/chb12/chb12_19.edf\"), [15]],\n",
    "    \"normal2.json\": [Path(\"/media/marco741/Archive/Datasets/CHB MIT/chb12/chb12_20.edf\"), []],\n",
    "}\n",
    "\n",
    "edf_positive_filepaths = {\n",
    "    \"seizure1.json\": [Path(\"/media/marco741/Archive/Datasets/CHB MIT/chb12/chb12_06.edf\"), [161, 195, 226, 241, 242], 1666],\n",
    "    \"seizure2.json\": [Path(\"/media/marco741/Archive/Datasets/CHB MIT/chb12/chb12_08.edf\"), [19,  20,  21,  22,  24,  25, 153, 184, 191, 201], 1427],\n",
    "}"
   ]
  },
  {
   "cell_type": "code",
   "execution_count": 51,
   "metadata": {},
   "outputs": [
    {
     "name": "stdout",
     "output_type": "stream",
     "text": [
      "Extracting EDF parameters from /media/marco741/Archive/Datasets/CHB MIT/chb12/chb12_19.edf...\n",
      "EDF file detected\n",
      "Setting channel info structure...\n",
      "Creating raw.info structure...\n",
      "Extracting EDF parameters from /media/marco741/Archive/Datasets/CHB MIT/chb12/chb12_20.edf...\n",
      "EDF file detected\n",
      "Setting channel info structure...\n",
      "Creating raw.info structure...\n"
     ]
    }
   ],
   "source": [
    "for filename, (edf_filepath, preds) in edf_negative_filepaths.items():\n",
    "    o = EDFOperations()\n",
    "    raw_edf = o.read_raw_edf(edf_filepath, useful_channels=USEFUL_CHANNELS)\n",
    "    data = raw_edf.get_data().astype(np.float32)[:, :600*256:4]*1e6\n",
    "    data = np.reshape(data, (len(data), (data.shape[1]*4)//(256*6), -1)).tolist()\n",
    "\n",
    "    if Path(filename).exists():\n",
    "        print(\"File already exists\")\n",
    "        break\n",
    "    with open(Path(filename),\"w\") as f:\n",
    "        json.dump({\"data\": data, \"preds\": preds}, f)"
   ]
  },
  {
   "cell_type": "code",
   "execution_count": 54,
   "metadata": {},
   "outputs": [
    {
     "name": "stdout",
     "output_type": "stream",
     "text": [
      "1666\n",
      "Extracting EDF parameters from /media/marco741/Archive/Datasets/CHB MIT/chb12/chb12_06.edf...\n",
      "EDF file detected\n",
      "Setting channel info structure...\n",
      "Creating raw.info structure...\n",
      "1427\n",
      "Extracting EDF parameters from /media/marco741/Archive/Datasets/CHB MIT/chb12/chb12_08.edf...\n",
      "EDF file detected\n",
      "Setting channel info structure...\n",
      "Creating raw.info structure...\n"
     ]
    }
   ],
   "source": [
    "for filename, (edf_filepath, preds, duration) in edf_positive_filepaths.items():\n",
    "    print(duration)\n",
    "    o = EDFOperations()\n",
    "    raw_edf = o.read_raw_edf(edf_filepath, useful_channels=USEFUL_CHANNELS).crop(tmax=duration//6*6, include_tmax=False)\n",
    "    data = (raw_edf.get_data().astype(np.float32)[:, ::4]*1e6)\n",
    "    data = np.reshape(data, (len(data), (data.shape[1]*4)//(256*6), -1)).tolist()\n",
    "\n",
    "    if Path(filename).exists():\n",
    "        print(\"File already exists\")\n",
    "        break\n",
    "    with open(Path(filename),\"w\") as f:\n",
    "        json.dump({\"data\": data, \"preds\": preds}, f)"
   ]
  }
 ],
 "metadata": {
  "kernelspec": {
   "display_name": "dataset",
   "language": "python",
   "name": "python3"
  },
  "language_info": {
   "codemirror_mode": {
    "name": "ipython",
    "version": 3
   },
   "file_extension": ".py",
   "mimetype": "text/x-python",
   "name": "python",
   "nbconvert_exporter": "python",
   "pygments_lexer": "ipython3",
   "version": "3.10.8"
  },
  "orig_nbformat": 4,
  "vscode": {
   "interpreter": {
    "hash": "50d0d9315ab269f50f7ad4c8f68c27d05a3c87926b6735c0fb70ab9e5c6b91e2"
   }
  }
 },
 "nbformat": 4,
 "nbformat_minor": 2
}
