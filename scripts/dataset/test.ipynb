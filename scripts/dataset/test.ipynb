{
 "cells": [
  {
   "cell_type": "code",
   "execution_count": 50,
   "metadata": {},
   "outputs": [],
   "source": [
    "import matplotlib\n",
    "matplotlib.use('TkAgg')\n",
    "import mne\n",
    "import pathlib\n",
    "import json\n",
    "import re\n",
    "import numpy as np\n",
    "import pandas as pd\n",
    "from scipy import signal as s\n",
    "import matplotlib.pyplot as plt"
   ]
  },
  {
   "cell_type": "code",
   "execution_count": 51,
   "metadata": {},
   "outputs": [],
   "source": [
    "USEFUL_CHANNELS = [\n",
    "\"FP1-F7\",\n",
    "\"F7-T7\",\n",
    "\"T7-P7\",\n",
    "\"P7-O1\",\n",
    "\"FP1-F3\",\n",
    "\"F3-C3\",\n",
    "\"C3-P3\",\n",
    "\"P3-O1\",\n",
    "\"FP2-F4\",\n",
    "\"F4-C4\",\n",
    "\"C4-P4\",\n",
    "\"P4-O2\",\n",
    "\"FP2-F8\",\n",
    "\"F8-T8\",\n",
    "\"T8-P8\",\n",
    "\"P8-O2\",\n",
    "\"FZ-CZ\",\n",
    "\"CZ-PZ\",\n",
    "\"T7-FT9\",\n",
    "\"FT9-FT10\",\n",
    "\"FT10-T8\"\n",
    "]\n",
    "\n",
    "# new_names = dict(\n",
    "#     (ch_name,\n",
    "#     ch_name.rstrip('.').upper().replace('Z', 'z').replace('FP', 'Fp'))\n",
    "#     for ch_name in USEFUL_CHANNELS)\n",
    "# USEFUL_CHANNELS = [new_names[x] for x in USEFUL_CHANNELS]"
   ]
  },
  {
   "cell_type": "code",
   "execution_count": 47,
   "metadata": {},
   "outputs": [],
   "source": [
    "for ch in raw.ch_names:\n",
    "    if ch not in USEFUL_CHANNELS:\n",
    "        print(ch)\n",
    "        # raw.drop_channels(ch)"
   ]
  },
  {
   "cell_type": "code",
   "execution_count": 52,
   "metadata": {},
   "outputs": [],
   "source": [
    "def read_raw_edf(edf_path: pathlib.Path, channels=None) -> mne.io.Raw:\n",
    "    if channels is None:\n",
    "        channels = []\n",
    "    raw_edf = mne.io.read_raw_edf(edf_path, stim_channel=None, include=channels)  # type: ignore\n",
    "\n",
    "    if \"T8-P8-1\" in raw_edf.ch_names:\n",
    "        raw_edf.drop_channels(\"T8-P8-1\")\n",
    "        new_names = {\"T8-P8-0\": \"T8-P8\"}\n",
    "        raw_edf.rename_channels(new_names)\n",
    "\n",
    "    raw_edf.reorder_channels(channels)\n",
    "    return raw_edf"
   ]
  },
  {
   "cell_type": "code",
   "execution_count": 53,
   "metadata": {},
   "outputs": [
    {
     "name": "stdout",
     "output_type": "stream",
     "text": [
      "Extracting EDF parameters from /media/marco741/Archive/Datasets/CHB MIT/chb15/chb15_02.edf...\n",
      "EDF file detected\n",
      "Setting channel info structure...\n",
      "Creating raw.info structure...\n"
     ]
    },
    {
     "name": "stderr",
     "output_type": "stream",
     "text": [
      "/tmp/ipykernel_22558/729399859.py:4: RuntimeWarning: Channel names are not unique, found duplicates for: {'T8-P8'}. Applying running numbers for duplicates.\n",
      "  raw_edf = mne.io.read_raw_edf(edf_path, stim_channel=None, include=channels)  # type: ignore\n"
     ]
    }
   ],
   "source": [
    "path = pathlib.Path(\"/media/marco741/Archive/Datasets/CHB MIT/chb15/chb15_02.edf\")\n",
    "\n",
    "raw = read_raw_edf(path, channels=USEFUL_CHANNELS)\n",
    "\n",
    "# raw = raw.copy().crop(0, 100, include_tmax=False)\n",
    "\n",
    "# epochs = mne.make_fixed_length_epochs(raw, duration=6.0, preload=True, overlap=1.0, id=1)\n",
    "# data = epochs.get_data()\n",
    "\n",
    "# print(data.shape)\n",
    "\n",
    "# raw.ch_names\n",
    "# for ch in MISSING:\n",
    "#     for found_ch in raw.ch_names:\n",
    "#         if ch in found_ch:\n",
    "#             print(f\"{ch} ~ {found_ch}\")\n",
    "# data = raw.get_data()\n",
    "    \n",
    "# channel1 = data[raw.ch_names.index(\"T8-P8-0\"), :]\n",
    "# channel2 = data[raw.ch_names.index(\"T8-P8-1\"), :]\n",
    "\n",
    "\n",
    "# new_names = dict(\n",
    "#     (ch_name,\n",
    "    # #  ch_name.rstrip('.').upper().replace('Z', 'z').replace('FP', 'Fp'))\n",
    "#     # for ch_name in raw.ch_names)\n",
    "# # raw.rename_channels(new_names)\n",
    "\n",
    "# # new_names = dict(\n",
    "#     # (ch_name,\n",
    "    # #  ch_name.rstrip('.').upper().replace('Z', 'z').replace('FP', 'Fp'))\n",
    "#     # for ch_name in USEFUL_CHANNELS)\n",
    "# USEFUL_CHANNELS = [new_names[x] for x in USEFUL_CHANNELS]"
   ]
  },
  {
   "cell_type": "code",
   "execution_count": 55,
   "metadata": {},
   "outputs": [
    {
     "data": {
      "text/plain": [
       "<MNEBrowseFigure size 800x800 with 4 Axes>"
      ]
     },
     "execution_count": 55,
     "metadata": {},
     "output_type": "execute_result"
    },
    {
     "name": "stdout",
     "output_type": "stream",
     "text": [
      "Channels marked as bad:\n",
      "none\n"
     ]
    }
   ],
   "source": [
    "raw.plot(n_channels=21)"
   ]
  },
  {
   "cell_type": "code",
   "execution_count": 56,
   "metadata": {},
   "outputs": [],
   "source": [
    "def load_paper_labels(filepath: pathlib.Path):\n",
    "    data_y = np.load(filepath, allow_pickle=True)  # metadatos\n",
    "\n",
    "    data_y = pd.DataFrame(data_y, columns=['type', 'name', 'filename', 'pre1', 'pre2', 'id_eeg_actual', 'id_eeg_all', 'label'])\n",
    "    data_y.label = data_y.label.astype('int')\n",
    "\n",
    "    return data_y"
   ]
  },
  {
   "cell_type": "code",
   "execution_count": 57,
   "metadata": {},
   "outputs": [],
   "source": [
    "def load_paper_data(filepath: pathlib.Path):\n",
    "    x_data = np.load(filepath, mmap_mode='r', allow_pickle=True)\n",
    "    return x_data"
   ]
  },
  {
   "cell_type": "code",
   "execution_count": 58,
   "metadata": {},
   "outputs": [],
   "source": [
    "paper_dirpath = pathlib.Path('/media/marco741/Archive/Datasets/EEG data/')\n",
    "normal_x_filename = 'normal_1_0_data_x.npy'\n",
    "normal_y_filename = \"normal_1_0_data_y.npy\"\n",
    "\n",
    "paper_y_normal = load_paper_labels(paper_dirpath/normal_y_filename)\n",
    "paper_x_normal = load_paper_data(paper_dirpath/normal_x_filename)\n"
   ]
  },
  {
   "cell_type": "code",
   "execution_count": 72,
   "metadata": {},
   "outputs": [],
   "source": [
    "idxs = paper_y_normal.index[paper_y_normal[\"filename\"] == \"chb15_02.edf\"][:100]"
   ]
  },
  {
   "cell_type": "code",
   "execution_count": 73,
   "metadata": {},
   "outputs": [],
   "source": [
    "# paper_x_normal_slice = paper_x_normal[idxs].reshape(21, -1)"
   ]
  },
  {
   "cell_type": "code",
   "execution_count": 74,
   "metadata": {},
   "outputs": [],
   "source": [
    "paper_x_normal_slice = paper_x_normal[idxs]\n",
    "paper_x_normal_slice = np.concatenate(paper_x_normal_slice, -1)"
   ]
  },
  {
   "cell_type": "code",
   "execution_count": 64,
   "metadata": {},
   "outputs": [
    {
     "name": "stdout",
     "output_type": "stream",
     "text": [
      "Creating RawArray with float64 data, n_channels=21, n_times=640\n",
      "    Range : 0 ... 639 =      0.000 ...     4.992 secs\n",
      "Ready.\n"
     ]
    },
    {
     "name": "stdout",
     "output_type": "stream",
     "text": [
      "Channels marked as bad:\n",
      "none\n"
     ]
    }
   ],
   "source": [
    "info=mne.create_info(ch_names=raw.ch_names, sfreq=128, ch_types='eeg')\n",
    "np_diff = mne.io.RawArray(paper_x_normal_slice/1e6, info)\n",
    "p = np_diff.plot(n_channels=21)"
   ]
  },
  {
   "cell_type": "code",
   "execution_count": 45,
   "metadata": {},
   "outputs": [],
   "source": [
    "npraw = raw.get_data().astype(np.float32)"
   ]
  },
  {
   "cell_type": "code",
   "execution_count": 46,
   "metadata": {},
   "outputs": [
    {
     "data": {
      "text/plain": [
       "(21, 25600)"
      ]
     },
     "execution_count": 46,
     "metadata": {},
     "output_type": "execute_result"
    }
   ],
   "source": [
    "npraw.shape"
   ]
  },
  {
   "cell_type": "code",
   "execution_count": 47,
   "metadata": {},
   "outputs": [],
   "source": [
    "slice = paper_x_normal_slice[:, :128*100]/1e6"
   ]
  },
  {
   "cell_type": "code",
   "execution_count": 25,
   "metadata": {},
   "outputs": [
    {
     "data": {
      "text/plain": [
       "(21, 640)"
      ]
     },
     "execution_count": 25,
     "metadata": {},
     "output_type": "execute_result"
    }
   ],
   "source": [
    "slice.shape"
   ]
  },
  {
   "cell_type": "code",
   "execution_count": 27,
   "metadata": {},
   "outputs": [],
   "source": [
    "nprawslice = npraw[:, :256*10:2]"
   ]
  },
  {
   "cell_type": "code",
   "execution_count": 28,
   "metadata": {},
   "outputs": [
    {
     "data": {
      "text/plain": [
       "(21, 640)"
      ]
     },
     "execution_count": 28,
     "metadata": {},
     "output_type": "execute_result"
    }
   ],
   "source": [
    "nprawslice.shape"
   ]
  },
  {
   "cell_type": "code",
   "execution_count": 48,
   "metadata": {},
   "outputs": [],
   "source": [
    "diff = paper_x_normal_slice[:, :128*100]/1e6 - npraw[:, :256*100:2]"
   ]
  },
  {
   "cell_type": "code",
   "execution_count": 49,
   "metadata": {},
   "outputs": [
    {
     "name": "stdout",
     "output_type": "stream",
     "text": [
      "Creating RawArray with float64 data, n_channels=21, n_times=12800\n",
      "    Range : 0 ... 12799 =      0.000 ...    99.992 secs\n",
      "Ready.\n"
     ]
    },
    {
     "name": "stdout",
     "output_type": "stream",
     "text": [
      "Channels marked as bad:\n",
      "none\n"
     ]
    }
   ],
   "source": [
    "info=mne.create_info(ch_names=raw.ch_names, sfreq=128, ch_types='eeg')\n",
    "np_diff = mne.io.RawArray(diff, info)\n",
    "p = np_diff.plot(n_channels=21)"
   ]
  },
  {
   "cell_type": "code",
   "execution_count": 71,
   "metadata": {},
   "outputs": [
    {
     "data": {
      "text/plain": [
       "array([-4.6398047e-05,  4.8840047e-07,  4.8840047e-07, ...,\n",
       "        8.3028081e-06,  1.1233211e-05,  1.0256410e-05], dtype=float32)"
      ]
     },
     "execution_count": 71,
     "metadata": {},
     "output_type": "execute_result"
    }
   ],
   "source": [
    "npraw[0]"
   ]
  },
  {
   "cell_type": "code",
   "execution_count": 114,
   "metadata": {},
   "outputs": [],
   "source": [
    "def createSpec(data):\n",
    "    f, t, Pxx = s.spectrogram(data, nfft=128, fs=128, nperseg=128, return_onesided=True, noverlap=0)\n",
    "\n",
    "    # result = (10*np.log10(np.transpose(Pxx))-(10*np.log10(np.transpose(Pxx))).min())/(10*np.log10(np.transpose(Pxx))).ptp()\n",
    "    return f, t, Pxx"
   ]
  },
  {
   "cell_type": "code",
   "execution_count": 130,
   "metadata": {},
   "outputs": [],
   "source": [
    "def plot_spectrogram(data):\n",
    "    f, t, Pxx = createSpec(data)\n",
    "\n",
    "    plt.pcolormesh(t, f, Pxx, shading='gouraud')\n",
    "\n",
    "    plt.ylabel('Frequency [Hz]')\n",
    "\n",
    "    plt.xlabel('Time [sec]')\n",
    "\n",
    "    plt.show()"
   ]
  },
  {
   "cell_type": "code",
   "execution_count": 145,
   "metadata": {},
   "outputs": [
    {
     "data": {
      "image/png": "[encoded data removed]",
      "text/plain": [
       "<Figure size 640x480 with 1 Axes>"
      ]
     },
     "metadata": {},
     "output_type": "display_data"
    }
   ],
   "source": [
    "plot_spectrogram(nprawslice[0])"
   ]
  },
  {
   "cell_type": "code",
   "execution_count": 146,
   "metadata": {},
   "outputs": [
    {
     "data": {
      "image/png": "[encoded data removed]",
      "text/plain": [
       "<Figure size 640x480 with 1 Axes>"
      ]
     },
     "metadata": {},
     "output_type": "display_data"
    }
   ],
   "source": [
    "plot_spectrogram(slice[0])"
   ]
  },
  {
   "cell_type": "code",
   "execution_count": 148,
   "metadata": {},
   "outputs": [
    {
     "data": {
      "text/plain": [
       "array([ 3.6379788e-12,  0.0000000e+00,  0.0000000e+00,  0.0000000e+00,\n",
       "        0.0000000e+00,  0.0000000e+00, -2.2737368e-13, -4.5474735e-13,\n",
       "       -4.5474735e-13, -1.1368684e-13,  2.2737368e-13,  2.2737368e-13,\n",
       "        1.1368684e-13, -4.5474735e-13, -4.5474735e-13, -4.5474735e-13,\n",
       "       -2.2737368e-13,  0.0000000e+00, -2.2737368e-13, -4.5474735e-13,\n",
       "       -9.0949470e-13, -9.0949470e-13, -9.0949470e-13, -9.0949470e-13,\n",
       "       -9.0949470e-13, -4.5474735e-13, -9.0949470e-13, -2.2737368e-13,\n",
       "        0.0000000e+00,  0.0000000e+00,  0.0000000e+00,  0.0000000e+00,\n",
       "        1.1368684e-13,  0.0000000e+00,  2.2737368e-13,  4.5474735e-13,\n",
       "        4.5474735e-13,  9.0949470e-13,  9.0949470e-13,  2.2737368e-13,\n",
       "        4.5474735e-13,  2.2737368e-13,  4.5474735e-13,  9.0949470e-13,\n",
       "        9.0949470e-13,  9.0949470e-13,  4.5474735e-13,  2.2737368e-13,\n",
       "        0.0000000e+00, -2.2737368e-13, -2.2737368e-13,  0.0000000e+00,\n",
       "        4.5474735e-13,  1.1368684e-13, -2.2737368e-13, -9.0949470e-13,\n",
       "       -9.0949470e-13, -9.0949470e-13,  0.0000000e+00,  0.0000000e+00,\n",
       "        2.2737368e-13,  0.0000000e+00,  2.2737368e-13,  0.0000000e+00,\n",
       "       -4.5474735e-13, -9.0949470e-13, -4.5474735e-13,  1.1368684e-13,\n",
       "        9.0949470e-13,  0.0000000e+00,  9.0949470e-13,  4.5474735e-13,\n",
       "        0.0000000e+00, -2.2737368e-13, -2.2737368e-13, -1.1368684e-13,\n",
       "        4.5474735e-13,  4.5474735e-13,  9.0949470e-13,  2.2737368e-13,\n",
       "        0.0000000e+00, -4.5474735e-13, -4.5474735e-13, -4.5474735e-13,\n",
       "       -9.0949470e-13, -4.5474735e-13, -2.2737368e-13,  4.5474735e-13,\n",
       "        4.5474735e-13,  1.1368684e-13, -2.2737368e-13, -4.5474735e-13,\n",
       "       -9.0949470e-13, -9.0949470e-13, -9.0949470e-13, -4.5474735e-13,\n",
       "       -4.5474735e-13, -2.2737368e-13, -4.5474735e-13, -4.5474735e-13,\n",
       "       -4.5474735e-13, -9.0949470e-13, -4.5474735e-13,  2.2737368e-13,\n",
       "        9.0949470e-13,  9.0949470e-13,  4.5474735e-13, -2.2737368e-13,\n",
       "       -4.5474735e-13, -2.2737368e-13,  4.5474735e-13,  4.5474735e-13,\n",
       "        4.5474735e-13,  0.0000000e+00, -1.1368684e-13,  0.0000000e+00,\n",
       "        4.5474735e-13,  4.5474735e-13,  4.5474735e-13,  4.5474735e-13,\n",
       "        4.5474735e-13,  9.0949470e-13,  2.2737368e-13,  1.1368684e-13,\n",
       "        1.1368684e-13,  2.2737368e-13,  9.0949470e-13,  0.0000000e+00,\n",
       "        1.1721613e-05, -1.3675213e-05, -8.7912085e-06, -6.8376066e-06,\n",
       "       -5.8608057e-06, -9.7680095e-06, -2.6373626e-05, -2.6373626e-05,\n",
       "       -1.0744810e-05,  7.8144085e-06,  1.1721611e-05,  4.8840056e-06,\n",
       "       -8.7912085e-06, -2.2466422e-05, -2.6373626e-05, -1.6605616e-05,\n",
       "       -4.8840047e-06, -2.9304028e-06, -2.9304028e-06,  1.9536024e-06,\n",
       "       -4.8840047e-06, -6.8376066e-06, -7.8144076e-06, -1.7582417e-05,\n",
       "       -1.4652014e-05, -1.3675213e-05, -3.9072038e-06, -5.8608061e-06,\n",
       "       -1.3675213e-05, -1.9536019e-05, -1.6605616e-05, -1.6605616e-05,\n",
       "       -1.8559218e-05, -2.4420024e-05, -1.8559218e-05, -7.8144076e-06,\n",
       "        2.9304033e-06,  7.8144085e-06,  1.0744810e-05,  1.0744810e-05,\n",
       "        8.7912085e-06,  1.2698413e-05, -6.8376066e-06, -5.8608052e-06,\n",
       "        1.9536028e-06,  1.2698413e-05,  1.8559218e-05,  1.0744810e-05,\n",
       "        0.0000000e+00, -1.9536017e-06,  1.9536024e-06,  5.8608066e-06,\n",
       "        7.8144085e-06,  9.7680104e-06, -9.7680072e-07, -2.9304024e-06,\n",
       "       -9.7680095e-07,  3.9072038e-06,  3.9072042e-06,  5.8608061e-06,\n",
       "        2.9304031e-06, -9.7680095e-07, -9.7680095e-07, -2.9304028e-06,\n",
       "       -2.9304031e-06, -4.8840052e-06, -4.8840047e-06, -1.9536021e-06,\n",
       "        7.8144076e-06,  1.0744811e-05,  9.7680104e-06,  2.9304038e-06,\n",
       "       -6.8376066e-06, -1.8559218e-05, -1.7582417e-05, -2.9304038e-06,\n",
       "        7.8144076e-06,  1.2698412e-05,  4.8840052e-06, -5.8608057e-06,\n",
       "       -1.0744810e-05, -1.7582417e-05, -1.0744811e-05,  2.9304024e-06,\n",
       "        1.5628815e-05,  2.2466422e-05,  1.5628815e-05,  8.7912085e-06,\n",
       "       -1.9536017e-06, -1.3675213e-05, -2.0512820e-05, -1.1721612e-05,\n",
       "        4.8840047e-06,  7.8144076e-06,  1.2698412e-05,  2.9304024e-06,\n",
       "       -5.8608057e-06, -1.4652014e-05, -1.5628815e-05, -1.1721611e-05,\n",
       "       -1.4652015e-05, -1.3675214e-05, -9.7680104e-06, -4.8840047e-06,\n",
       "       -5.8608057e-06, -3.9072033e-06, -2.9304026e-06,  1.9536021e-06,\n",
       "        9.7680083e-07,  3.9072038e-06,  5.8608061e-06,  5.8608066e-06,\n",
       "       -3.9072033e-06, -5.8608057e-06, -9.7680095e-06, -1.6605616e-05,\n",
       "       -2.2466422e-05, -1.2698412e-05, -3.9072033e-06,  9.7680104e-06,\n",
       "        1.4652015e-05,  1.0744810e-05,  1.9536010e-06, -9.7680095e-06,\n",
       "       -5.8608066e-06,  7.8144076e-06,  1.4652014e-05,  1.3675214e-05,\n",
       "       -2.9304038e-06,  1.6605616e-05,  2.8327227e-05,  3.0280829e-05,\n",
       "        2.8327227e-05,  2.3443223e-05,  1.8559218e-05,  1.5628815e-05,\n",
       "        8.7912085e-06,  1.1721611e-05,  8.7912085e-06,  5.8608057e-06,\n",
       "        7.8144076e-06,  7.8144076e-06,  5.8608057e-06,  1.9536019e-06,\n",
       "       -9.7680095e-07, -1.9536019e-06, -9.7680095e-07,  1.9536019e-06,\n",
       "        0.0000000e+00, -1.9536010e-06, -7.8144076e-06, -9.7680095e-06,\n",
       "       -1.9536014e-06,  5.8608061e-06,  4.8840052e-06, -9.7680095e-07,\n",
       "       -3.9072038e-06, -1.0744811e-05, -1.3675214e-05, -1.1721612e-05,\n",
       "       -1.6605616e-05, -1.9536019e-05, -1.9536019e-05, -1.5628815e-05,\n",
       "       -7.8144085e-06, -4.8840056e-06, -3.9072038e-06, -5.8608061e-06,\n",
       "       -4.5474735e-13, -8.7912085e-06,  1.9536014e-06, -5.8608061e-06,\n",
       "       -8.7912085e-06, -8.7912085e-06,  1.9536024e-06,  4.8840052e-06,\n",
       "        1.6605616e-05,  2.1489621e-05,  2.4420024e-05,  2.5396825e-05,\n",
       "        2.5396825e-05,  2.7350427e-05,  2.4420024e-05,  1.8559218e-05,\n",
       "        1.2698413e-05,  1.6605616e-05,  2.1489621e-05,  3.5164834e-05,\n",
       "        3.8095237e-05,  2.2466422e-05,  1.1721612e-05,  1.0744811e-05,\n",
       "        1.4652014e-05,  2.4420024e-05,  3.1257630e-05,  3.5164834e-05,\n",
       "        3.5164834e-05,  2.9304028e-05,  1.6605616e-05, -9.7680049e-07,\n",
       "        9.7680186e-07, -7.8144076e-06, -3.9072038e-06, -4.8840052e-06,\n",
       "        2.9304024e-06,  5.8608057e-06,  1.9536021e-06, -1.9536014e-06,\n",
       "       -8.7912085e-06, -1.9536017e-06,  0.0000000e+00, -3.9072038e-06,\n",
       "       -5.8608057e-06, -8.7912085e-06, -3.9072033e-06, -2.9304019e-06,\n",
       "       -8.7912085e-06, -1.2698412e-05, -1.9536019e-05, -2.3443223e-05,\n",
       "       -8.7912085e-06, -3.9072042e-06, -9.7680104e-06, -7.8144085e-06,\n",
       "       -2.9304031e-06, -5.8608061e-06, -2.9304031e-06, -1.0744810e-05,\n",
       "       -1.7582417e-05, -1.7582417e-05, -1.0744811e-05, -8.7912085e-06,\n",
       "       -7.8144085e-06, -1.4652014e-05, -1.5628815e-05, -2.2466422e-05,\n",
       "       -2.1489621e-05, -2.1489621e-05, -1.4652014e-05, -6.8376066e-06,\n",
       "        0.0000000e+00, -9.7680095e-07, -3.9072038e-06, -1.4652014e-05,\n",
       "       -2.2466422e-05,  2.9304038e-06,  1.1721612e-05,  8.7912085e-06,\n",
       "       -9.7680095e-07, -1.1721611e-05, -1.4652014e-05, -4.8840047e-06,\n",
       "        1.9536024e-06,  1.3675214e-05,  1.4652015e-05,  1.1721611e-05,\n",
       "        7.8144076e-06, -1.0744810e-05, -1.2698412e-05, -7.8144076e-06,\n",
       "       -4.8840047e-06, -2.9304028e-06, -1.7582417e-05, -2.1489621e-05,\n",
       "       -2.5396825e-05, -2.4420024e-05, -1.7582417e-05, -1.4652015e-05,\n",
       "       -9.7680095e-06, -2.9304028e-06,  6.8376066e-06,  7.8144076e-06,\n",
       "        1.0744810e-05,  9.7680095e-07, -1.3675213e-05, -1.2698412e-05,\n",
       "       -9.7680104e-06, -9.7680140e-07,  0.0000000e+00, -3.9072038e-06,\n",
       "       -1.3675213e-05, -7.8144076e-06, -9.7680083e-07,  1.9536021e-06,\n",
       "        8.7912094e-06,  1.1721611e-05,  7.8144076e-06,  3.9072033e-06,\n",
       "       -5.8608061e-06, -2.4420024e-05, -3.3211232e-05, -3.0280829e-05,\n",
       "       -2.2466422e-05,  0.0000000e+00,  3.9072038e-06, -9.0949470e-13,\n",
       "       -1.8559218e-05, -3.5164834e-05, -4.1025640e-05, -2.0512820e-05,\n",
       "        0.0000000e+00,  1.3675213e-05,  1.7582417e-05,  2.2466422e-05,\n",
       "        1.0744810e-05,  4.5474735e-13, -4.8840047e-06, -4.8840043e-06,\n",
       "       -6.8376066e-06, -3.9072038e-06,  6.8376066e-06,  5.8608052e-06,\n",
       "        2.9304024e-06, -4.8840056e-06, -1.4652015e-05, -1.5628815e-05,\n",
       "       -1.3675213e-05, -9.7680095e-06, -3.9072038e-06,  1.0744810e-05,\n",
       "        2.8327227e-05,  4.1025643e-05,  3.5164834e-05,  1.2698412e-05,\n",
       "       -4.8840047e-06, -6.8376066e-06, -1.9536019e-06,  4.8840047e-06,\n",
       "        6.8376066e-06,  8.7912085e-06,  1.0744810e-05,  1.1721611e-05,\n",
       "        2.3443223e-05,  3.0280829e-05,  3.0280829e-05,  3.4188030e-05,\n",
       "        3.7118436e-05,  5.8608057e-05,  6.0561659e-05,  4.2002441e-05,\n",
       "        1.9536019e-05,  9.7680095e-06,  6.8376066e-06,  6.8376066e-06,\n",
       "       -3.9072038e-06, -9.7680095e-06, -1.2698412e-05, -1.3675213e-05,\n",
       "       -7.8144076e-06,  9.7680106e-07,  2.9304033e-06,  9.7680118e-07,\n",
       "       -1.9536014e-06, -1.3675213e-05, -1.8559218e-05, -1.9536019e-05,\n",
       "       -1.5628815e-05, -1.0744810e-05, -1.0744811e-05, -1.1721612e-05,\n",
       "       -5.8608057e-06, -1.4652014e-05, -6.8376066e-06,  4.5474735e-13,\n",
       "        9.7680140e-07, -3.9072038e-06, -1.0744811e-05, -3.9072038e-06,\n",
       "        0.0000000e+00,  3.9072042e-06, -7.8144076e-06, -1.3675213e-05,\n",
       "       -1.0744810e-05, -8.7912085e-06, -1.9536019e-06,  9.7680118e-07,\n",
       "        3.9072038e-06,  8.7912085e-06,  1.0744811e-05,  1.1721612e-05,\n",
       "        1.5628815e-05,  1.5628815e-05,  8.7912085e-06,  1.2698412e-05,\n",
       "       -1.9536028e-06,  7.8144076e-06,  3.9072038e-06,  0.0000000e+00,\n",
       "        0.0000000e+00,  4.8840047e-06,  1.1721611e-05,  6.8376062e-06,\n",
       "       -8.7912094e-06, -1.5628815e-05, -2.0512820e-05, -1.5628815e-05,\n",
       "        9.7680049e-07,  1.1721611e-05,  1.1721611e-05,  8.7912085e-06,\n",
       "        3.9072038e-06,  9.7680072e-07, -8.7912094e-06, -1.1721611e-05,\n",
       "       -1.8559218e-05, -1.7582417e-05, -7.8144076e-06, -1.9536021e-06,\n",
       "       -9.7680140e-07, -3.9072042e-06, -7.8144076e-06, -6.8376066e-06,\n",
       "       -9.7680095e-07,  7.8144076e-06,  8.7912085e-06,  9.7680095e-07,\n",
       "        2.9304031e-06,  4.8840052e-06,  7.8144076e-06,  4.8840052e-06,\n",
       "        4.8840052e-06,  2.9304031e-06, -1.9536017e-06,  1.9536021e-06,\n",
       "        4.8840052e-06,  6.8376075e-06,  1.1721612e-05,  1.1721612e-05,\n",
       "        4.8840047e-06,  9.7680095e-07,  0.0000000e+00,  7.8144076e-06,\n",
       "        2.0512820e-05,  1.7582417e-05,  1.4652014e-05,  8.7912085e-06,\n",
       "        7.8144076e-06,  5.8608057e-06,  5.8608061e-06,  4.8840052e-06,\n",
       "        6.8376075e-06,  1.3675214e-05,  2.1489621e-05,  1.8559218e-05,\n",
       "        1.0744810e-05,  9.7680049e-07, -9.7680095e-07,  6.8376071e-06,\n",
       "        2.0512820e-05,  2.7350427e-05,  2.6373626e-05,  1.8559218e-05,\n",
       "        5.8608057e-06,  3.9072033e-06,  2.9304024e-06,  3.9072038e-06,\n",
       "        2.9304028e-06,  6.8376066e-06,  7.8144076e-06,  2.9304028e-06,\n",
       "       -4.8840052e-06, -1.1721612e-05, -1.4652015e-05, -1.1721611e-05,\n",
       "       -1.9536019e-06,  4.8840052e-06,  9.7680104e-06,  2.9304033e-06,\n",
       "       -9.7680095e-07, -5.8608061e-06, -7.8144085e-06,  2.9304024e-06,\n",
       "        7.8144076e-06,  1.2698412e-05,  6.8376066e-06,  5.8608057e-06,\n",
       "        9.7680049e-07, -8.7912094e-06, -7.8144076e-06, -3.9072042e-06,\n",
       "       -5.8608061e-06, -4.8840052e-06, -6.8376071e-06, -1.0744810e-05,\n",
       "       -1.4652014e-05, -1.7582417e-05, -1.1721611e-05, -1.3675213e-05,\n",
       "       -1.0744810e-05, -1.9536019e-05, -2.2466422e-05, -1.8559218e-05,\n",
       "       -4.8840052e-06,  0.0000000e+00,  9.7680118e-07, -9.7680095e-06,\n",
       "       -1.4652014e-05, -2.2466422e-05, -1.7582417e-05, -1.2698412e-05,\n",
       "       -7.8144076e-06, -8.7912085e-06, -9.7680095e-06, -6.8376066e-06,\n",
       "       -4.8840043e-06, -2.9304019e-06,  2.9304038e-06,  7.8144076e-06,\n",
       "        1.0744811e-05,  1.0744811e-05,  6.8376075e-06,  2.9304038e-06],\n",
       "      dtype=float32)"
      ]
     },
     "execution_count": 148,
     "metadata": {},
     "output_type": "execute_result"
    }
   ],
   "source": [
    "slice[0] - nprawslice[0]"
   ]
  },
  {
   "cell_type": "code",
   "execution_count": 147,
   "metadata": {},
   "outputs": [
    {
     "data": {
      "image/png": "[encoded data removed]",
      "text/plain": [
       "<Figure size 640x480 with 1 Axes>"
      ]
     },
     "metadata": {},
     "output_type": "display_data"
    }
   ],
   "source": [
    "plot_spectrogram(diff[0])"
   ]
  },
  {
   "cell_type": "code",
   "execution_count": 125,
   "metadata": {},
   "outputs": [
    {
     "ename": "ValueError",
     "evalue": "too many values to unpack (expected 2)",
     "output_type": "error",
     "traceback": [
      "\u001b[0;31m---------------------------------------------------------------------------\u001b[0m",
      "\u001b[0;31mValueError\u001b[0m                                Traceback (most recent call last)",
      "\u001b[1;32m/home/marco741/Documents/Unisa/Tesi Magistrale/Project/epilepsy_prediction/scripts/dataset/test.ipynb Cell 23\u001b[0m in \u001b[0;36m<cell line: 1>\u001b[0;34m()\u001b[0m\n\u001b[0;32m----> <a href='vscode-notebook-cell:/home/marco741/Documents/Unisa/Tesi%20Magistrale/Project/epilepsy_prediction/scripts/dataset/test.ipynb#X52sZmlsZQ%3D%3D?line=0'>1</a>\u001b[0m plot_spectrogram(raw\u001b[39m.\u001b[39;49mget_data()[\u001b[39m0\u001b[39;49m])\n",
      "\u001b[1;32m/home/marco741/Documents/Unisa/Tesi Magistrale/Project/epilepsy_prediction/scripts/dataset/test.ipynb Cell 23\u001b[0m in \u001b[0;36mplot_spectrogram\u001b[0;34m(data)\u001b[0m\n\u001b[1;32m      <a href='vscode-notebook-cell:/home/marco741/Documents/Unisa/Tesi%20Magistrale/Project/epilepsy_prediction/scripts/dataset/test.ipynb#X52sZmlsZQ%3D%3D?line=0'>1</a>\u001b[0m \u001b[39mdef\u001b[39;00m \u001b[39mplot_spectrogram\u001b[39m(data):\n\u001b[1;32m      <a href='vscode-notebook-cell:/home/marco741/Documents/Unisa/Tesi%20Magistrale/Project/epilepsy_prediction/scripts/dataset/test.ipynb#X52sZmlsZQ%3D%3D?line=1'>2</a>\u001b[0m     f, t, Pxx \u001b[39m=\u001b[39m createSpec(raw\u001b[39m.\u001b[39mget_data())\n\u001b[0;32m----> <a href='vscode-notebook-cell:/home/marco741/Documents/Unisa/Tesi%20Magistrale/Project/epilepsy_prediction/scripts/dataset/test.ipynb#X52sZmlsZQ%3D%3D?line=3'>4</a>\u001b[0m     plt\u001b[39m.\u001b[39;49mpcolormesh(t, f, Pxx, shading\u001b[39m=\u001b[39;49m\u001b[39m'\u001b[39;49m\u001b[39mgouraud\u001b[39;49m\u001b[39m'\u001b[39;49m)\n\u001b[1;32m      <a href='vscode-notebook-cell:/home/marco741/Documents/Unisa/Tesi%20Magistrale/Project/epilepsy_prediction/scripts/dataset/test.ipynb#X52sZmlsZQ%3D%3D?line=5'>6</a>\u001b[0m     plt\u001b[39m.\u001b[39mylabel(\u001b[39m'\u001b[39m\u001b[39mFrequency [Hz]\u001b[39m\u001b[39m'\u001b[39m)\n\u001b[1;32m      <a href='vscode-notebook-cell:/home/marco741/Documents/Unisa/Tesi%20Magistrale/Project/epilepsy_prediction/scripts/dataset/test.ipynb#X52sZmlsZQ%3D%3D?line=7'>8</a>\u001b[0m     plt\u001b[39m.\u001b[39mxlabel(\u001b[39m'\u001b[39m\u001b[39mTime [sec]\u001b[39m\u001b[39m'\u001b[39m)\n",
      "File \u001b[0;32m~/miniconda3/envs/thesis/lib/python3.10/site-packages/matplotlib/pyplot.py:2691\u001b[0m, in \u001b[0;36mpcolormesh\u001b[0;34m(alpha, norm, cmap, vmin, vmax, shading, antialiased, data, *args, **kwargs)\u001b[0m\n\u001b[1;32m   2686\u001b[0m \u001b[39m@_copy_docstring_and_deprecators\u001b[39m(Axes\u001b[39m.\u001b[39mpcolormesh)\n\u001b[1;32m   2687\u001b[0m \u001b[39mdef\u001b[39;00m \u001b[39mpcolormesh\u001b[39m(\n\u001b[1;32m   2688\u001b[0m         \u001b[39m*\u001b[39margs, alpha\u001b[39m=\u001b[39m\u001b[39mNone\u001b[39;00m, norm\u001b[39m=\u001b[39m\u001b[39mNone\u001b[39;00m, cmap\u001b[39m=\u001b[39m\u001b[39mNone\u001b[39;00m, vmin\u001b[39m=\u001b[39m\u001b[39mNone\u001b[39;00m,\n\u001b[1;32m   2689\u001b[0m         vmax\u001b[39m=\u001b[39m\u001b[39mNone\u001b[39;00m, shading\u001b[39m=\u001b[39m\u001b[39mNone\u001b[39;00m, antialiased\u001b[39m=\u001b[39m\u001b[39mFalse\u001b[39;00m, data\u001b[39m=\u001b[39m\u001b[39mNone\u001b[39;00m,\n\u001b[1;32m   2690\u001b[0m         \u001b[39m*\u001b[39m\u001b[39m*\u001b[39mkwargs):\n\u001b[0;32m-> 2691\u001b[0m     __ret \u001b[39m=\u001b[39m gca()\u001b[39m.\u001b[39;49mpcolormesh(\n\u001b[1;32m   2692\u001b[0m         \u001b[39m*\u001b[39;49margs, alpha\u001b[39m=\u001b[39;49malpha, norm\u001b[39m=\u001b[39;49mnorm, cmap\u001b[39m=\u001b[39;49mcmap, vmin\u001b[39m=\u001b[39;49mvmin,\n\u001b[1;32m   2693\u001b[0m         vmax\u001b[39m=\u001b[39;49mvmax, shading\u001b[39m=\u001b[39;49mshading, antialiased\u001b[39m=\u001b[39;49mantialiased,\n\u001b[1;32m   2694\u001b[0m         \u001b[39m*\u001b[39;49m\u001b[39m*\u001b[39;49m({\u001b[39m\"\u001b[39;49m\u001b[39mdata\u001b[39;49m\u001b[39m\"\u001b[39;49m: data} \u001b[39mif\u001b[39;49;00m data \u001b[39mis\u001b[39;49;00m \u001b[39mnot\u001b[39;49;00m \u001b[39mNone\u001b[39;49;00m \u001b[39melse\u001b[39;49;00m {}), \u001b[39m*\u001b[39;49m\u001b[39m*\u001b[39;49mkwargs)\n\u001b[1;32m   2695\u001b[0m     sci(__ret)\n\u001b[1;32m   2696\u001b[0m     \u001b[39mreturn\u001b[39;00m __ret\n",
      "File \u001b[0;32m~/miniconda3/envs/thesis/lib/python3.10/site-packages/matplotlib/__init__.py:1423\u001b[0m, in \u001b[0;36m_preprocess_data.<locals>.inner\u001b[0;34m(ax, data, *args, **kwargs)\u001b[0m\n\u001b[1;32m   1420\u001b[0m \u001b[39m@functools\u001b[39m\u001b[39m.\u001b[39mwraps(func)\n\u001b[1;32m   1421\u001b[0m \u001b[39mdef\u001b[39;00m \u001b[39minner\u001b[39m(ax, \u001b[39m*\u001b[39margs, data\u001b[39m=\u001b[39m\u001b[39mNone\u001b[39;00m, \u001b[39m*\u001b[39m\u001b[39m*\u001b[39mkwargs):\n\u001b[1;32m   1422\u001b[0m     \u001b[39mif\u001b[39;00m data \u001b[39mis\u001b[39;00m \u001b[39mNone\u001b[39;00m:\n\u001b[0;32m-> 1423\u001b[0m         \u001b[39mreturn\u001b[39;00m func(ax, \u001b[39m*\u001b[39;49m\u001b[39mmap\u001b[39;49m(sanitize_sequence, args), \u001b[39m*\u001b[39;49m\u001b[39m*\u001b[39;49mkwargs)\n\u001b[1;32m   1425\u001b[0m     bound \u001b[39m=\u001b[39m new_sig\u001b[39m.\u001b[39mbind(ax, \u001b[39m*\u001b[39margs, \u001b[39m*\u001b[39m\u001b[39m*\u001b[39mkwargs)\n\u001b[1;32m   1426\u001b[0m     auto_label \u001b[39m=\u001b[39m (bound\u001b[39m.\u001b[39marguments\u001b[39m.\u001b[39mget(label_namer)\n\u001b[1;32m   1427\u001b[0m                   \u001b[39mor\u001b[39;00m bound\u001b[39m.\u001b[39mkwargs\u001b[39m.\u001b[39mget(label_namer))\n",
      "File \u001b[0;32m~/miniconda3/envs/thesis/lib/python3.10/site-packages/matplotlib/axes/_axes.py:6133\u001b[0m, in \u001b[0;36mAxes.pcolormesh\u001b[0;34m(self, alpha, norm, cmap, vmin, vmax, shading, antialiased, *args, **kwargs)\u001b[0m\n\u001b[1;32m   6130\u001b[0m shading \u001b[39m=\u001b[39m shading\u001b[39m.\u001b[39mlower()\n\u001b[1;32m   6131\u001b[0m kwargs\u001b[39m.\u001b[39msetdefault(\u001b[39m'\u001b[39m\u001b[39medgecolors\u001b[39m\u001b[39m'\u001b[39m, \u001b[39m'\u001b[39m\u001b[39mnone\u001b[39m\u001b[39m'\u001b[39m)\n\u001b[0;32m-> 6133\u001b[0m X, Y, C, shading \u001b[39m=\u001b[39m \u001b[39mself\u001b[39;49m\u001b[39m.\u001b[39;49m_pcolorargs(\u001b[39m'\u001b[39;49m\u001b[39mpcolormesh\u001b[39;49m\u001b[39m'\u001b[39;49m, \u001b[39m*\u001b[39;49margs,\n\u001b[1;32m   6134\u001b[0m                                     shading\u001b[39m=\u001b[39;49mshading, kwargs\u001b[39m=\u001b[39;49mkwargs)\n\u001b[1;32m   6135\u001b[0m coords \u001b[39m=\u001b[39m np\u001b[39m.\u001b[39mstack([X, Y], axis\u001b[39m=\u001b[39m\u001b[39m-\u001b[39m\u001b[39m1\u001b[39m)\n\u001b[1;32m   6136\u001b[0m \u001b[39m# convert to one dimensional array\u001b[39;00m\n",
      "File \u001b[0;32m~/miniconda3/envs/thesis/lib/python3.10/site-packages/matplotlib/axes/_axes.py:5636\u001b[0m, in \u001b[0;36mAxes._pcolorargs\u001b[0;34m(self, funcname, shading, *args, **kwargs)\u001b[0m\n\u001b[1;32m   5634\u001b[0m         \u001b[39mif\u001b[39;00m \u001b[39misinstance\u001b[39m(Y, np\u001b[39m.\u001b[39mma\u001b[39m.\u001b[39mcore\u001b[39m.\u001b[39mMaskedArray):\n\u001b[1;32m   5635\u001b[0m             Y \u001b[39m=\u001b[39m Y\u001b[39m.\u001b[39mdata\n\u001b[0;32m-> 5636\u001b[0m     nrows, ncols \u001b[39m=\u001b[39m C\u001b[39m.\u001b[39mshape\n\u001b[1;32m   5637\u001b[0m \u001b[39melse\u001b[39;00m:\n\u001b[1;32m   5638\u001b[0m     \u001b[39mraise\u001b[39;00m \u001b[39mTypeError\u001b[39;00m(\u001b[39mf\u001b[39m\u001b[39m'\u001b[39m\u001b[39m{\u001b[39;00mfuncname\u001b[39m}\u001b[39;00m\u001b[39m() takes 1 or 3 positional arguments \u001b[39m\u001b[39m'\u001b[39m\n\u001b[1;32m   5639\u001b[0m                     \u001b[39mf\u001b[39m\u001b[39m'\u001b[39m\u001b[39mbut \u001b[39m\u001b[39m{\u001b[39;00m\u001b[39mlen\u001b[39m(args)\u001b[39m}\u001b[39;00m\u001b[39m were given\u001b[39m\u001b[39m'\u001b[39m)\n",
      "\u001b[0;31mValueError\u001b[0m: too many values to unpack (expected 2)"
     ]
    }
   ],
   "source": [
    "plot_spectrogram(raw.get_data()[0])"
   ]
  },
  {
   "cell_type": "code",
   "execution_count": 12,
   "metadata": {},
   "outputs": [
    {
     "data": {
      "text/html": [
       "<table class=\"table table-hover table-striped table-sm table-responsive small\">\n",
       "    <tr>\n",
       "        <th>Measurement date</th>\n",
       "        \n",
       "        <td>February 17, 2057  18:23:13 GMT</td>\n",
       "        \n",
       "    </tr>\n",
       "    <tr>\n",
       "        <th>Experimenter</th>\n",
       "        \n",
       "        <td>Unknown</td>\n",
       "        \n",
       "    </tr>\n",
       "        <th>Participant</th>\n",
       "        \n",
       "        <td>Unknown</td>\n",
       "        \n",
       "    </tr>\n",
       "    <tr>\n",
       "        <th>Digitized points</th>\n",
       "        \n",
       "        <td>3 points</td>\n",
       "        \n",
       "    </tr>\n",
       "    <tr>\n",
       "        <th>Good channels</th>\n",
       "        <td>31 EEG</td>\n",
       "    </tr>\n",
       "    <tr>\n",
       "        <th>Bad channels</th>\n",
       "        <td>None</td>\n",
       "    </tr>\n",
       "    <tr>\n",
       "        <th>EOG channels</th>\n",
       "        <td>Not available</td>\n",
       "    </tr>\n",
       "    <tr>\n",
       "        <th>ECG channels</th>\n",
       "        <td>Not available</td>\n",
       "    \n",
       "    <tr>\n",
       "        <th>Sampling frequency</th>\n",
       "        <td>256.00 Hz</td>\n",
       "    </tr>\n",
       "    \n",
       "    \n",
       "    <tr>\n",
       "        <th>Highpass</th>\n",
       "        <td>0.00 Hz</td>\n",
       "    </tr>\n",
       "    \n",
       "    \n",
       "    <tr>\n",
       "        <th>Lowpass</th>\n",
       "        <td>128.00 Hz</td>\n",
       "    </tr>\n",
       "    \n",
       "    \n",
       "    \n",
       "    <tr>\n",
       "        <th>Filenames</th>\n",
       "        <td>chb15_01.edf</td>\n",
       "    </tr>\n",
       "    \n",
       "    <tr>\n",
       "        <th>Duration</th>\n",
       "        <td>01:00:02 (HH:MM:SS)</td>\n",
       "    </tr>\n",
       "</table>"
      ],
      "text/plain": [
       "<RawEDF | chb15_01.edf, 31 x 922112 (3602.0 s), ~36 kB, data not loaded>"
      ]
     },
     "execution_count": 12,
     "metadata": {},
     "output_type": "execute_result"
    }
   ],
   "source": [
    "montage = mne.channels.make_standard_montage(\"standard_1020\")\n",
    "raw.set_montage(montage, on_missing=\"ignore\")\n",
    "\n"
   ]
  },
  {
   "cell_type": "code",
   "execution_count": 20,
   "metadata": {},
   "outputs": [
    {
     "name": "stdout",
     "output_type": "stream",
     "text": [
      "raw contains 31\n",
      "Missing\n",
      "P7-T7\n",
      "T7-FT9\n",
      "FT9-FT10\n",
      "FT10-T8\n",
      "\n",
      "Extra\n",
      "--0\n",
      "--1\n",
      "--2\n",
      "--3\n",
      "--4\n",
      "FC1-REF\n",
      "FC2-REF\n",
      "FC5-REF\n",
      "FC6-REF\n",
      "CP1-REF\n",
      "CP2-REF\n",
      "CP5-REF\n",
      "CP6-REF\n"
     ]
    }
   ],
   "source": [
    "print(\"raw contains\", len(raw.ch_names))\n",
    "\n",
    "print(\"Missing\")\n",
    "for channel in USEFUL_CHANNELS:\n",
    "    if channel not in raw.ch_names:\n",
    "        print(channel)\n",
    "\n",
    "print(\"\\nExtra\")\n",
    "for channel in raw.ch_names:\n",
    "    if channel not in USEFUL_CHANNELS:\n",
    "        print(channel)"
   ]
  },
  {
   "cell_type": "code",
   "execution_count": 83,
   "metadata": {},
   "outputs": [],
   "source": [
    "montage = mne.channels.make_standard_montage(\"standard_1005\")\n",
    "\n",
    "# exclude = [\"(?i).*-REF\", \".*-Ref\", \"ECG\", \"VNS\"]\n",
    "# for channel in COMMON_CHANNELS.split(\",\"):\n",
    "#     for i in range(5):\n",
    "#         exclude.append(f\"{channel}-{i+1}\")\n",
    "\n",
    "def read_data(path):\n",
    "    raw = mne.io.read_raw_edf(path, stim_channel=None, include=COMMON_CHANNELS, verbose=\"ERROR\")\n",
    "\n",
    "    if \"T8-P8-1\" in raw.ch_names:\n",
    "        raw.drop_channels(\"T8-P8-1\")\n",
    "        new_names = {\"T8-P8-0\": \"T8-P8\"}\n",
    "        raw.rename_channels(new_names)\n",
    "\n",
    "    raw.reorder_channels(COMMON_CHANNELS)\n",
    "\n",
    "\n",
    "    # new_names = dict(\n",
    "    #     (ch_name,\n",
    "    #     ch_name.rstrip('.').upper().replace('Z', 'z').replace('FP', 'Fp'))\n",
    "    #     for ch_name in raw.ch_names)\n",
    "    # raw.rename_channels(new_names)\n",
    "\n",
    "    # raw = raw.set_montage(montage, on_missing=\"ignore\")\n",
    "\n",
    "    # new_ch_names = raw.ch_names\n",
    "    return raw.ch_names\n",
    "\n",
    "    # if len(new_ch_names) < len(original_ch_names):\n",
    "    #     raise f\"Canali diminuiti in {path}\"\n",
    "\n",
    "    # return raw\n",
    "    # parsed_ch_names = sorted(set([\"-\".join(channel.split(\"-\")[:2]) for channel in original_ch_names if not channel.startswith(\"--\")]))\n",
    "    # return \",\".join(parsed_ch_names)"
   ]
  },
  {
   "cell_type": "code",
   "execution_count": 73,
   "metadata": {},
   "outputs": [],
   "source": [
    "COMMON_CHANNELS = [\n",
    "    \"FP1-F7\",\n",
    "    \"F7-T7\",\n",
    "    \"T7-P7\",\n",
    "    \"P7-O1\",\n",
    "    \"FP1-F3\",\n",
    "    \"F3-C3\",\n",
    "    \"C3-P3\",\n",
    "    \"P3-O1\",\n",
    "    \"FP2-F4\",\n",
    "    \"F4-C4\",\n",
    "    \"C4-P4\",\n",
    "    \"P4-O2\",\n",
    "    \"FP2-F8\",\n",
    "    \"F8-T8\",\n",
    "    \"P8-O2\",\n",
    "    \"FZ-CZ\",\n",
    "    \"CZ-PZ\",\n",
    "    \"T8-P8\"\n",
    "]\n",
    "# COMMON_CHANNELS = [\"-\".join(sorted(channel.split(\"-\")[:2])) for channel in COMMON_CHANNELS]"
   ]
  },
  {
   "cell_type": "code",
   "execution_count": 50,
   "metadata": {},
   "outputs": [
    {
     "name": "stdout",
     "output_type": "stream",
     "text": [
      "{'.-3', 'C6', 'CP2', 'P7-O1', 'T8-P8-1', 'F4', 'FP2', 'C4-CS2', 'O2', 'F7-T7', 'P7', 'C6-CS2', 'CP2-CS2', 'FZ', 'F3-C3', 'PZ', 'CP6-CS2', '.-0', 'O1-CS2', 'C4-P4', 'P8', 'P3-CS2', '.-4', '.-1', 'C4', 'CP4-CS2', 'FP2-CS2', 'T7', 'EKG1-CHIN', 'P8-O2', 'F4-CS2', 'F7', 'FT10-T8', 'C2', 'CP6', 'P3', 'FZ-CS2', '01', 'F7-CS2', 'F8', 'CZ-CS2', 'F8-T8', 'FP1-F3', 'T8-CS2', 'CP4', 'C3', 'T8', 'C3-P3', 'LUE-RAE', 'FP1', 'FT9-FT10', 'P7-T7', 'CZ-PZ', 'O2-CS2', 'P7-CS2', 'T7-P7', 'EKG1-EKG2', 'T7-CS2', 'FZ-CZ', 'C3-CS2', 'F8-CS2', 'T7-FT9', 'FP1-F7', 'F4-C4', 'PZ-CS2', 'CZ', 'P3-O1', 'FP2-F8', '.-2', 'P4-CS2', 'T8-P8-0', 'F3', 'T8-P8', 'F3-CS2', 'PZ-OZ', 'P4-O2', 'LOC-ROC', 'FP2-F4', 'C2-CS2', 'FP1-CS2', 'P4', 'P8-CS2'}\n",
      "len(every_channel)=82\n",
      "missing_channels={'O1-P7', 'O2-P4', 'F8-FP2', 'F4-FP2', 'O1-P3', 'CZ-FZ', 'F3-FP1', 'F7-FP1', 'O2-P8', 'P8-T8', 'C3-F3', 'C4-F4'}\n"
     ]
    }
   ],
   "source": [
    "slices_path = pathlib.Path(\"output/300/slices.json\")\n",
    "dataset_path = pathlib.Path(\"/media/HDD/Unisa/Datasets/CHB_MIT\")\n",
    "with open(slices_path) as f:\n",
    "    data = json.load(f)\n",
    "\n",
    "\n",
    "dirs = (path for path in dataset_path.iterdir() if path.is_dir())\n",
    "\n",
    "# for directory in dirs:\n",
    "#     for edfpath in (edfpath for edfpath in directory.iterdir() if edfpath.name.endswith(\"edf\")):\n",
    "#         minimum = read_data(edfpath)\n",
    "#         channels.add(minimum)\n",
    "\n",
    "count = 563\n",
    "\n",
    "# filter_out_regex = [\"(?i).*-REF\", \"ECG\", \"VNS\", \".*--.*\"]\n",
    "filter_out_regex = [\"(?i).*-REF\", \".*--.*\", \"ECG\", \"VNS\"]\n",
    "\n",
    "every_channel = set()\n",
    "for patient, files_data in data.items():\n",
    "    for filename, slices in files_data.items():\n",
    "        edf_path = dataset_path.joinpath(patient, filename)\n",
    "        # raw = read_data(path)\n",
    "        channels = read_data(edf_path)\n",
    "        for channel in channels:\n",
    "            if not any(re.match(regex, channel) for regex in filter_out_regex):\n",
    "                every_channel.add(channel)\n",
    "\n",
    "print(every_channel)\n",
    "print(f\"{len(every_channel)=}\")\n",
    "\n",
    "missing_channels = set()\n",
    "for channel in COMMON_CHANNELS:\n",
    "    if channel not in every_channel:\n",
    "        missing_channels.add(channel)\n",
    "\n",
    "print(f\"{missing_channels=}\")\n",
    "\n",
    "for channel in missing_channels:\n",
    "    for found_channel in every_channel:\n",
    "        if channel in found_channel:\n",
    "            print(f\"{channel} in {found_channel}\")\n",
    "        # if minimum != COMMON_CHANNELS:\n",
    "        #     print(f\"{edf_path} {minimum}\")\n",
    "        # channels.add(minimum)\n",
    "\n",
    "# print(channels)\n",
    "\n",
    "        "
   ]
  },
  {
   "cell_type": "code",
   "execution_count": 51,
   "metadata": {},
   "outputs": [
    {
     "name": "stdout",
     "output_type": "stream",
     "text": [
      "missing_channels={'O1-P7', 'O2-P4', 'F8-FP2', 'F7-T7', 'F4-FP2', 'CZ-PZ', 'O1-P3', 'CZ-FZ', 'F3-FP1', 'F8-T8', 'C3-P3', 'F7-FP1', 'O2-P8', 'P8-T8', 'P7-T7', 'C3-F3', 'C4-P4', 'C4-F4'} edf_path=PosixPath('/media/HDD/Unisa/Datasets/CHB_MIT/chb12/chb12_27.edf')\n",
      "missing_channels={'O1-P7', 'O2-P4', 'F8-FP2', 'F7-T7', 'F4-FP2', 'CZ-PZ', 'O1-P3', 'CZ-FZ', 'F3-FP1', 'F8-T8', 'C3-P3', 'F7-FP1', 'O2-P8', 'P8-T8', 'P7-T7', 'C3-F3', 'C4-P4', 'C4-F4'} edf_path=PosixPath('/media/HDD/Unisa/Datasets/CHB_MIT/chb12/chb12_28.edf')\n",
      "missing_channels={'O1-P7', 'O2-P4', 'F8-FP2', 'F7-T7', 'F4-FP2', 'CZ-PZ', 'O1-P3', 'CZ-FZ', 'F3-FP1', 'F8-T8', 'C3-P3', 'F7-FP1', 'O2-P8', 'P8-T8', 'P7-T7', 'C3-F3', 'C4-P4', 'C4-F4'} edf_path=PosixPath('/media/HDD/Unisa/Datasets/CHB_MIT/chb12/chb12_29.edf')\n"
     ]
    }
   ],
   "source": [
    "slices_path = pathlib.Path(\"output/300/slices.json\")\n",
    "dataset_path = pathlib.Path(\"/media/HDD/Unisa/Datasets/CHB_MIT\")\n",
    "with open(slices_path) as f:\n",
    "    data = json.load(f)\n",
    "\n",
    "\n",
    "dirs = (path for path in dataset_path.iterdir() if path.is_dir())\n",
    "\n",
    "# for directory in dirs:\n",
    "#     for edfpath in (edfpath for edfpath in directory.iterdir() if edfpath.name.endswith(\"edf\")):\n",
    "#         minimum = read_data(edfpath)\n",
    "#         channels.add(minimum)\n",
    "\n",
    "count = 563\n",
    "\n",
    "# filter_out_regex = [\"(?i).*-REF\", \"ECG\", \"VNS\", \".*--.*\"]\n",
    "filter_out_regex = [\"(?i).*-REF\", \".*--.*\", \"ECG\", \"VNS\"]\n",
    "\n",
    "every_channel = set()\n",
    "for patient, files_data in data.items():\n",
    "    for filename, slices in files_data.items():\n",
    "        edf_path = dataset_path.joinpath(patient, filename)\n",
    "        # raw = read_data(path)\n",
    "        channels = read_data(edf_path)\n",
    "        actual_channels = set()\n",
    "        for channel in channels:\n",
    "            channel = \"-\".join(sorted(channel.split(\"-\")[:2]))\n",
    "            if not any(re.match(regex, channel) for regex in filter_out_regex):\n",
    "                actual_channels.add(channel)\n",
    "        missing_channels = set()\n",
    "        for channel in COMMON_CHANNELS:\n",
    "            if channel not in actual_channels:\n",
    "                missing_channels.add(channel)\n",
    "        \n",
    "        if len(missing_channels):\n",
    "            print(f\"{missing_channels=} {edf_path=}\")\n",
    "\n",
    "            for channel in missing_channels:\n",
    "                for found_channel in actual_channels:\n",
    "                    if channel in found_channel:\n",
    "                        print(f\"{channel} in {found_channel}\")"
   ]
  },
  {
   "cell_type": "code",
   "execution_count": 60,
   "metadata": {},
   "outputs": [],
   "source": [
    "DISCARDED_EDFS = [\n",
    "    \"chb12_27.edf\",\n",
    "    \"chb12_28.edf\",\n",
    "    \"chb12_29.edf\",\n",
    "]"
   ]
  },
  {
   "cell_type": "code",
   "execution_count": 85,
   "metadata": {},
   "outputs": [
    {
     "name": "stdout",
     "output_type": "stream",
     "text": [
      "channel_configurations={('FP1-F7', 'F7-T7', 'T7-P7', 'P7-O1', 'FP1-F3', 'F3-C3', 'C3-P3', 'P3-O1', 'FP2-F4', 'F4-C4', 'C4-P4', 'P4-O2', 'FP2-F8', 'F8-T8', 'P8-O2', 'FZ-CZ', 'CZ-PZ', 'T8-P8')}\n"
     ]
    }
   ],
   "source": [
    "slices_path = pathlib.Path(\"output/300/slices.json\")\n",
    "dataset_path = pathlib.Path(\"/media/HDD/Unisa/Datasets/CHB_MIT\")\n",
    "with open(slices_path) as f:\n",
    "    data = json.load(f)\n",
    "\n",
    "\n",
    "dirs = (path for path in dataset_path.iterdir() if path.is_dir())\n",
    "\n",
    "channel_configurations = set()\n",
    "channel_amounts = set()\n",
    "for patient, files_data in data.items():\n",
    "    for filename, slices in files_data.items():\n",
    "        edf_path = dataset_path.joinpath(patient, filename)\n",
    "        if edf_path.name not in DISCARDED_EDFS:\n",
    "            # raw = read_data(path)\n",
    "            channels = read_data(edf_path)\n",
    "            channel_configurations.add(tuple(channels))\n",
    "            if len(channels) == 20:\n",
    "                pass\n",
    "            else:\n",
    "                channel_amounts.add(len(channels))\n",
    "\n",
    "for conf in channel_configurations:\n",
    "    for ch in COMMON_CHANNELS:\n",
    "        if ch not in conf:\n",
    "            print(conf, ch)\n",
    "\n",
    "# print(channel_amounts)\n",
    "print(f\"{channel_configurations=}\")"
   ]
  }
 ],
 "metadata": {
  "kernelspec": {
   "display_name": "dataset",
   "language": "python",
   "name": "python3"
  },
  "language_info": {
   "codemirror_mode": {
    "name": "ipython",
    "version": 3
   },
   "file_extension": ".py",
   "mimetype": "text/x-python",
   "name": "python",
   "nbconvert_exporter": "python",
   "pygments_lexer": "ipython3",
   "version": "3.10.8"
  },
  "orig_nbformat": 4,
  "vscode": {
   "interpreter": {
    "hash": "50d0d9315ab269f50f7ad4c8f68c27d05a3c87926b6735c0fb70ab9e5c6b91e2"
   }
  }
 },
 "nbformat": 4,
 "nbformat_minor": 2
}
