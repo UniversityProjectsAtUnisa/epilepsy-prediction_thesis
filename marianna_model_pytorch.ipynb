{
  "cells": [
    {
      "cell_type": "code",
      "execution_count": 16,
      "metadata": {
        "id": "LdYJds1KKgi2"
      },
      "outputs": [],
      "source": [
        "from tensorflow import keras\n",
        "import torch\n",
        "from torch import nn\n",
        "import torch.nn.functional as F\n",
        "from torchsummary import summary\n",
        "from functools import reduce\n",
        "from operator import __add__"
      ]
    },
    {
      "cell_type": "code",
      "execution_count": 7,
      "metadata": {
        "id": "NKp2QXDaL15F"
      },
      "outputs": [],
      "source": [
        "BATCH_SIZE = 128\n",
        "MARCO_SHAPE =    (BATCH_SIZE, 21, 40, 6)\n",
        "MARIANNA_SHAPE = (BATCH_SIZE, 6, 40, 22)"
      ]
    },
    {
      "cell_type": "markdown",
      "metadata": {
        "id": "WMMDhXKXLNF3"
      },
      "source": [
        "# Tensorflow model"
      ]
    },
    {
      "cell_type": "code",
      "execution_count": 8,
      "metadata": {
        "id": "woPjPIuKKjRZ"
      },
      "outputs": [],
      "source": [
        "model = keras.models.Sequential()\n",
        "\n",
        "model.add(keras.layers.Conv2D(1024,5, padding='same', activation='relu', input_shape=(6, 40, 22)))\n",
        "model.add(keras.layers.BatchNormalization())\n",
        "\n",
        "model.add(keras.layers.Conv2D(512,5,padding='same',activation='relu'))\n",
        "model.add(keras.layers.BatchNormalization())\n",
        "model.add(keras.layers.MaxPooling2D())\n",
        "model.add(keras.layers.Dropout(0.1))\n",
        "\n",
        "model.add(keras.layers.Conv2D(256,3,padding='same',activation='relu'))\n",
        "model.add(keras.layers.BatchNormalization())\n",
        "\n",
        "model.add(keras.layers.Conv2D(128,3,padding='same',activation='relu'))\n",
        "model.add(keras.layers.BatchNormalization())\n",
        "model.add(keras.layers.MaxPooling2D())\n",
        "model.add(keras.layers.Dropout(0.1))\n",
        "\n",
        "model.add(keras.layers.Conv2D(64,3,padding='same',activation='relu'))\n",
        "model.add(keras.layers.BatchNormalization())\n",
        "model.add(keras.layers.Dropout(0.1))\n",
        "\n",
        "model.add(keras.layers.Conv2D(32,3,padding='same',activation='relu'))\n",
        "model.add(keras.layers.BatchNormalization())\n",
        "model.add(keras.layers.Dropout(0.1))\n",
        "\n",
        "model.add(keras.layers.Conv2D(16,3,padding='same',activation='relu'))\n",
        "model.add(keras.layers.BatchNormalization())\n",
        "model.add(keras.layers.Dropout(0.1))\n",
        "\n",
        "model.add(keras.layers.Conv2D(8,3,padding='same',activation='relu'))\n",
        "\n",
        "model.add(keras.layers.Flatten())\n",
        "model.add(keras.layers.Dense(64,activation='relu'))\n",
        "model.add(keras.layers.Dense(32,activation='relu'))\n",
        "model.add(keras.layers.Dense(16,activation='relu'))\n",
        "model.add(keras.layers.Dense(1,activation='sigmoid'))"
      ]
    },
    {
      "cell_type": "code",
      "execution_count": 9,
      "metadata": {
        "colab": {
          "base_uri": "https://localhost:8080/"
        },
        "id": "DMczAzzGKujO",
        "outputId": "d6be39e3-339e-46c1-9813-fd4cbe5f836b"
      },
      "outputs": [
        {
          "name": "stdout",
          "output_type": "stream",
          "text": [
            "Model: \"sequential\"\n",
            "________________________________________________________________________________________________________________________\n",
            " Layer (type)                                         Output Shape                                    Param #           \n",
            "========================================================================================================================\n",
            " conv2d (Conv2D)                                      (None, 6, 40, 1024)                             564224            \n",
            "                                                                                                                        \n",
            " batch_normalization (BatchNormalization)             (None, 6, 40, 1024)                             4096              \n",
            "                                                                                                                        \n",
            " conv2d_1 (Conv2D)                                    (None, 6, 40, 512)                              13107712          \n",
            "                                                                                                                        \n",
            " batch_normalization_1 (BatchNormalization)           (None, 6, 40, 512)                              2048              \n",
            "                                                                                                                        \n",
            " max_pooling2d (MaxPooling2D)                         (None, 3, 20, 512)                              0                 \n",
            "                                                                                                                        \n",
            " dropout (Dropout)                                    (None, 3, 20, 512)                              0                 \n",
            "                                                                                                                        \n",
            " conv2d_2 (Conv2D)                                    (None, 3, 20, 256)                              1179904           \n",
            "                                                                                                                        \n",
            " batch_normalization_2 (BatchNormalization)           (None, 3, 20, 256)                              1024              \n",
            "                                                                                                                        \n",
            " conv2d_3 (Conv2D)                                    (None, 3, 20, 128)                              295040            \n",
            "                                                                                                                        \n",
            " batch_normalization_3 (BatchNormalization)           (None, 3, 20, 128)                              512               \n",
            "                                                                                                                        \n",
            " max_pooling2d_1 (MaxPooling2D)                       (None, 1, 10, 128)                              0                 \n",
            "                                                                                                                        \n",
            " dropout_1 (Dropout)                                  (None, 1, 10, 128)                              0                 \n",
            "                                                                                                                        \n",
            " conv2d_4 (Conv2D)                                    (None, 1, 10, 64)                               73792             \n",
            "                                                                                                                        \n",
            " batch_normalization_4 (BatchNormalization)           (None, 1, 10, 64)                               256               \n",
            "                                                                                                                        \n",
            " dropout_2 (Dropout)                                  (None, 1, 10, 64)                               0                 \n",
            "                                                                                                                        \n",
            " conv2d_5 (Conv2D)                                    (None, 1, 10, 32)                               18464             \n",
            "                                                                                                                        \n",
            " batch_normalization_5 (BatchNormalization)           (None, 1, 10, 32)                               128               \n",
            "                                                                                                                        \n",
            " dropout_3 (Dropout)                                  (None, 1, 10, 32)                               0                 \n",
            "                                                                                                                        \n",
            " conv2d_6 (Conv2D)                                    (None, 1, 10, 16)                               4624              \n",
            "                                                                                                                        \n",
            " batch_normalization_6 (BatchNormalization)           (None, 1, 10, 16)                               64                \n",
            "                                                                                                                        \n",
            " dropout_4 (Dropout)                                  (None, 1, 10, 16)                               0                 \n",
            "                                                                                                                        \n",
            " conv2d_7 (Conv2D)                                    (None, 1, 10, 8)                                1160              \n",
            "                                                                                                                        \n",
            " flatten (Flatten)                                    (None, 80)                                      0                 \n",
            "                                                                                                                        \n",
            " dense (Dense)                                        (None, 64)                                      5184              \n",
            "                                                                                                                        \n",
            " dense_1 (Dense)                                      (None, 32)                                      2080              \n",
            "                                                                                                                        \n",
            " dense_2 (Dense)                                      (None, 16)                                      528               \n",
            "                                                                                                                        \n",
            " dense_3 (Dense)                                      (None, 1)                                       17                \n",
            "                                                                                                                        \n",
            "========================================================================================================================\n",
            "Total params: 15,260,857\n",
            "Trainable params: 15,256,793\n",
            "Non-trainable params: 4,064\n",
            "________________________________________________________________________________________________________________________\n"
          ]
        }
      ],
      "source": [
        "model.summary(line_length=120)"
      ]
    },
    {
      "cell_type": "markdown",
      "metadata": {
        "id": "kIlBDfChLRC_"
      },
      "source": [
        "# PyTorch model"
      ]
    },
    {
      "cell_type": "code",
      "execution_count": 25,
      "metadata": {
        "id": "OBBFI_CCLF8f"
      },
      "outputs": [],
      "source": [
        "def build_padded_conv(in_ch, out_ch, kernel):\n",
        "  padding = (kernel // 2 + (kernel - 2 * (kernel // 2)) - 1, kernel // 2)\n",
        "  return nn.Conv2d(in_channels=in_ch, out_channels=out_ch, kernel_size=kernel, padding=padding)\n",
        "\n",
        "class MariannaModel(nn.Module):\n",
        "  def __init__(self, lead_count: int):\n",
        "    super(MariannaModel, self).__init__()\n",
        "\n",
        "    # model.add(keras.layers.Conv2D(1024,5, padding='same', activation='relu', input_shape=(6, 40, 22)))\n",
        "    # model.add(keras.layers.BatchNormalization())\n",
        "    self.conv1 = build_padded_conv(in_ch=lead_count, out_ch=1024, kernel=5)\n",
        "    self.bn1 = nn.BatchNorm2d(1024)\n",
        "\n",
        "    # model.add(keras.layers.Conv2D(512,5,padding='same',activation='relu'))\n",
        "    # model.add(keras.layers.BatchNormalization())\n",
        "    # model.add(keras.layers.MaxPooling2D())\n",
        "    # model.add(keras.layers.Dropout(0.1))\n",
        "    self.conv2 = build_padded_conv(in_ch=1024, out_ch=512, kernel=5)\n",
        "    self.bn2 = nn.BatchNorm2d(512)\n",
        "    self.pool2 = nn.MaxPool2d(kernel_size=2)\n",
        "    self.drop2 = nn.Dropout(0.1)\n",
        "\n",
        "    # model.add(keras.layers.Conv2D(256,3,padding='same',activation='relu'))\n",
        "    # model.add(keras.layers.BatchNormalization())\n",
        "    self.conv3 = build_padded_conv(in_ch=512, out_ch=256, kernel=3)\n",
        "    self.bn3 = nn.BatchNorm2d(256)\n",
        "\n",
        "    # model.add(keras.layers.Conv2D(128,3,padding='same',activation='relu'))\n",
        "    # model.add(keras.layers.BatchNormalization())\n",
        "    # model.add(keras.layers.MaxPooling2D())\n",
        "    # model.add(keras.layers.Dropout(0.1))\n",
        "    self.conv4 = build_padded_conv(in_ch=256, out_ch=128, kernel=3)\n",
        "    self.bn4 = nn.BatchNorm2d(128)\n",
        "    self.pool4 = nn.MaxPool2d(kernel_size=2)\n",
        "    self.drop4 = nn.Dropout(0.1)\n",
        "    \n",
        "    # model.add(keras.layers.Conv2D(64,3,padding='same',activation='relu'))\n",
        "    # model.add(keras.layers.BatchNormalization())\n",
        "    # model.add(keras.layers.Dropout(0.1))\n",
        "    self.conv5 = build_padded_conv(in_ch=128, out_ch=64, kernel=3)\n",
        "    self.bn5 = nn.BatchNorm2d(64)\n",
        "    self.drop5 = nn.Dropout(0.1)\n",
        "\n",
        "    # model.add(keras.layers.Conv2D(32,3,padding='same',activation='relu'))\n",
        "    # model.add(keras.layers.BatchNormalization())\n",
        "    # model.add(keras.layers.Dropout(0.1))\n",
        "    self.conv6 = build_padded_conv(in_ch=64, out_ch=32, kernel=3)\n",
        "    self.bn6 = nn.BatchNorm2d(32)\n",
        "    self.drop6 = nn.Dropout(0.1)\n",
        "\n",
        "    # model.add(keras.layers.Conv2D(16,3,padding='same',activation='relu'))\n",
        "    # model.add(keras.layers.BatchNormalization())\n",
        "    # model.add(keras.layers.Dropout(0.1))\n",
        "    self.conv7 = build_padded_conv(in_ch=32, out_ch=16, kernel=3)\n",
        "    self.bn7 = nn.BatchNorm2d(16)\n",
        "    self.drop7 = nn.Dropout(0.1)\n",
        "\n",
        "    # model.add(keras.layers.Conv2D(8,3,padding='same',activation='relu'))\n",
        "    self.conv8 = build_padded_conv(in_ch=16, out_ch=8, kernel=3)\n",
        "\n",
        "    # model.add(keras.layers.Flatten())\n",
        "    # model.add(keras.layers.Dense(64,activation='relu'))\n",
        "    # model.add(keras.layers.Dense(32,activation='relu'))\n",
        "    # model.add(keras.layers.Dense(16,activation='relu'))\n",
        "    # model.add(keras.layers.Dense(1,activation='sigmoid'))\n",
        "    self.flatten = nn.Flatten()\n",
        "    self.fc1 = nn.Linear(80, 64)\n",
        "    self.fc2 = nn.Linear(64, 32)\n",
        "    self.fc3 = nn.Linear(32, 16)\n",
        "    self.fc4 = nn.Linear(16, 1)\n",
        "\n",
        "  def forward(self, x):\n",
        "    x = self.bn1(F.relu(self.conv1(x)))\n",
        "\n",
        "    x = self.bn2(F.relu(self.conv2(x)))\n",
        "    x = self.drop2(self.pool2(x))\n",
        "\n",
        "    x = self.bn3(F.relu(self.conv3(x)))\n",
        "\n",
        "    x = self.bn4(F.relu(self.conv4(x)))\n",
        "    x = self.drop4(self.pool4(x))\n",
        "\n",
        "    x = self.bn5(F.relu(self.conv5(x)))\n",
        "    x = self.drop5(x)\n",
        "\n",
        "    x = self.bn6(F.relu(self.conv6(x)))\n",
        "    x = self.drop6(x)\n",
        "\n",
        "    x = self.bn7(F.relu(self.conv7(x)))\n",
        "    x = self.drop7(x)\n",
        "\n",
        "    x = F.relu(self.conv8(x))\n",
        "    x = self.flatten(x)\n",
        "\n",
        "    x = F.relu(self.fc1(x))\n",
        "    x = F.relu(self.fc2(x))\n",
        "    x = F.relu(self.fc3(x))\n",
        "    x = torch.sigmoid(self.fc4(x))\n",
        "\n",
        "    return x"
      ]
    },
    {
      "cell_type": "code",
      "execution_count": 26,
      "metadata": {
        "colab": {
          "base_uri": "https://localhost:8080/"
        },
        "id": "DEJlxaOnWeTz",
        "outputId": "08100678-9b3f-46e9-87e1-10a87c73cc3f"
      },
      "outputs": [
        {
          "data": {
            "text/plain": [
              "((22, 40, 6), (21, 40, 6))"
            ]
          },
          "execution_count": 26,
          "metadata": {},
          "output_type": "execute_result"
        }
      ],
      "source": [
        "MARIANNA_SHAPE[1:][::-1], MARCO_SHAPE[1:]"
      ]
    },
    {
      "cell_type": "code",
      "execution_count": 28,
      "metadata": {
        "colab": {
          "base_uri": "https://localhost:8080/"
        },
        "id": "7oApv_uTV3G-",
        "outputId": "05156c80-de1c-4f2b-d01d-1667feabef72"
      },
      "outputs": [
        {
          "name": "stdout",
          "output_type": "stream",
          "text": [
            "----------------------------------------------------------------\n",
            "        Layer (type)               Output Shape         Param #\n",
            "================================================================\n",
            "            Conv2d-1          [-1, 1024, 40, 6]         538,624\n",
            "       BatchNorm2d-2          [-1, 1024, 40, 6]           2,048\n",
            "            Conv2d-3           [-1, 512, 40, 6]      13,107,712\n",
            "       BatchNorm2d-4           [-1, 512, 40, 6]           1,024\n",
            "         MaxPool2d-5           [-1, 512, 20, 3]               0\n",
            "           Dropout-6           [-1, 512, 20, 3]               0\n",
            "            Conv2d-7           [-1, 256, 20, 3]       1,179,904\n",
            "       BatchNorm2d-8           [-1, 256, 20, 3]             512\n",
            "            Conv2d-9           [-1, 128, 20, 3]         295,040\n",
            "      BatchNorm2d-10           [-1, 128, 20, 3]             256\n",
            "        MaxPool2d-11           [-1, 128, 10, 1]               0\n",
            "          Dropout-12           [-1, 128, 10, 1]               0\n",
            "           Conv2d-13            [-1, 64, 10, 1]          73,792\n",
            "      BatchNorm2d-14            [-1, 64, 10, 1]             128\n",
            "          Dropout-15            [-1, 64, 10, 1]               0\n",
            "           Conv2d-16            [-1, 32, 10, 1]          18,464\n",
            "      BatchNorm2d-17            [-1, 32, 10, 1]              64\n",
            "          Dropout-18            [-1, 32, 10, 1]               0\n",
            "           Conv2d-19            [-1, 16, 10, 1]           4,624\n",
            "      BatchNorm2d-20            [-1, 16, 10, 1]              32\n",
            "          Dropout-21            [-1, 16, 10, 1]               0\n",
            "           Conv2d-22             [-1, 8, 10, 1]           1,160\n",
            "          Flatten-23                   [-1, 80]               0\n",
            "           Linear-24                   [-1, 64]           5,184\n",
            "           Linear-25                   [-1, 32]           2,080\n",
            "           Linear-26                   [-1, 16]             528\n",
            "           Linear-27                    [-1, 1]              17\n",
            "================================================================\n",
            "Total params: 15,231,193\n",
            "Trainable params: 15,231,193\n",
            "Non-trainable params: 0\n",
            "----------------------------------------------------------------\n",
            "Input size (MB): 0.02\n",
            "Forward/backward pass size (MB): 6.49\n",
            "Params size (MB): 58.10\n",
            "Estimated Total Size (MB): 64.61\n",
            "----------------------------------------------------------------\n"
          ]
        }
      ],
      "source": [
        "INPUT_SHAPE = MARCO_SHAPE[1:]\n",
        "\n",
        "lead_count = INPUT_SHAPE[0]\n",
        "pytorch_model = MariannaModel(lead_count)\n",
        "summary(pytorch_model, input_size=INPUT_SHAPE)"
      ]
    }
  ],
  "metadata": {
    "colab": {
      "provenance": []
    },
    "kernelspec": {
      "display_name": "Python 3",
      "name": "python3"
    },
    "language_info": {
      "name": "python"
    }
  },
  "nbformat": 4,
  "nbformat_minor": 0
}
